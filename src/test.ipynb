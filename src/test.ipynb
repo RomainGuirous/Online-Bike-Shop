{
 "cells": [
  {
   "cell_type": "code",
   "execution_count": 12,
   "id": "d7a8bc66",
   "metadata": {},
   "outputs": [],
   "source": [
    "\n",
    "from pymongo import MongoClient\n",
    "\n",
    "client = MongoClient('mongodb://localhost:27017/')\n",
    "\n",
    "db = client['BikeShopDB']\n",
    "\n",
    "products = db[\"Product\"]"
   ]
  },
  {
   "cell_type": "code",
   "execution_count": 18,
   "id": "9df5386e",
   "metadata": {},
   "outputs": [
    {
     "name": "stdout",
     "output_type": "stream",
     "text": [
      "Product ID: 6836bce66ed40ba001a6e9f5, Name: Mountain Bike, Price: 499.99\n",
      "Product ID: 6836bce66ed40ba001a6e9f6, Name: Road Bike, Price: 799.99\n",
      "Product ID: 6836bce66ed40ba001a6e9f7, Name: Hybrid Bike, Price: 599.99\n",
      "Product ID: 6836bce66ed40ba001a6e9f8, Name: Electric Bike, Price: 1299.99\n",
      "Product ID: 6836bce66ed40ba001a6e9f9, Name: Kids Bike, Price: 199.99\n"
     ]
    }
   ],
   "source": [
    "for product in products.find():\n",
    "    print(f\"Product ID: {product.get('_id')}, Name: {product.get('product_name')}, Price: {product.get('price')}\")"
   ]
  },
  {
   "cell_type": "code",
   "execution_count": null,
   "id": "a240ac2a",
   "metadata": {},
   "outputs": [],
   "source": []
  }
 ],
 "metadata": {
  "kernelspec": {
   "display_name": "website",
   "language": "python",
   "name": "python3"
  },
  "language_info": {
   "codemirror_mode": {
    "name": "ipython",
    "version": 3
   },
   "file_extension": ".py",
   "mimetype": "text/x-python",
   "name": "python",
   "nbconvert_exporter": "python",
   "pygments_lexer": "ipython3",
   "version": "3.13.2"
  }
 },
 "nbformat": 4,
 "nbformat_minor": 5
}
